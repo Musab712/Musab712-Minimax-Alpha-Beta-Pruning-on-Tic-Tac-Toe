{
  "nbformat": 4,
  "nbformat_minor": 0,
  "metadata": {
    "colab": {
      "provenance": []
    },
    "kernelspec": {
      "name": "python3",
      "display_name": "Python 3"
    },
    "language_info": {
      "name": "python"
    }
  },
  "cells": [
    {
      "cell_type": "markdown",
      "source": [
        "# Imported Libararies"
      ],
      "metadata": {
        "id": "_ZsQqZ19QBiq"
      }
    },
    {
      "cell_type": "code",
      "source": [
        "import random\n",
        "import math\n",
        "import time"
      ],
      "metadata": {
        "id": "P6hANbwAQGl_"
      },
      "execution_count": 52,
      "outputs": []
    },
    {
      "cell_type": "markdown",
      "source": [
        "# Minimax & Alpha Pruning on Tic-Tac-Toe"
      ],
      "metadata": {
        "id": "6_epg61HQH9r"
      }
    },
    {
      "cell_type": "markdown",
      "source": [
        "## Tic Tac Toe Game Board & Winner Rules"
      ],
      "metadata": {
        "id": "-bGQDNduQVUB"
      }
    },
    {
      "cell_type": "code",
      "source": [
        "class TicTacToe:\n",
        "    def __init__(self):\n",
        "        self.board = [' ' for _ in range(9)]\n",
        "\n",
        "    def print_board(self):\n",
        "        for row in [self.board[i*3:(i+1)*3] for i in range(3)]:\n",
        "            print('| ' + ' | '.join(row) + ' |')\n",
        "\n",
        "    def available_moves(self):\n",
        "        return [i for i, spot in enumerate(self.board) if spot == ' ']\n",
        "\n",
        "    def empty_squares(self):\n",
        "        return ' ' in self.board\n",
        "\n",
        "    def make_move(self, square, letter):\n",
        "        if self.board[square] == ' ':\n",
        "            self.board[square] = letter\n",
        "            return True\n",
        "        return False\n",
        "\n",
        "    def winner(self, square, letter):\n",
        "        row_ind = square // 3\n",
        "        row = self.board[row_ind*3:(row_ind+1)*3]\n",
        "        if all([spot == letter for spot in row]):\n",
        "            return True\n",
        "\n",
        "        col_ind = square % 3\n",
        "        column = [self.board[col_ind+i*3] for i in range(3)]\n",
        "        if all([spot == letter for spot in column]):\n",
        "            return True\n",
        "\n",
        "        if square % 2 == 0:\n",
        "            diagonal1 = [self.board[i] for i in [0,4,8]]\n",
        "            if all([spot == letter for spot in diagonal1]):\n",
        "                return True\n",
        "            diagonal2 = [self.board[i] for i in [2,4,6]]\n",
        "            if all([spot == letter for spot in diagonal2]):\n",
        "                return True\n",
        "        return False"
      ],
      "metadata": {
        "id": "4rbGduZDQdCS"
      },
      "execution_count": 53,
      "outputs": []
    },
    {
      "cell_type": "markdown",
      "source": [
        "## AI Playing with Minimax Algorithm"
      ],
      "metadata": {
        "id": "GXSKcX0DQeQL"
      }
    },
    {
      "cell_type": "code",
      "source": [
        "def minimax(state, player):\n",
        "    max_player = 'X'\n",
        "    other_player = 'O' if player == 'X' else 'X'\n",
        "\n",
        "    if check_winner(state, other_player):\n",
        "        return {'position': None, 'score': 1 * (len(state.available_moves()) + 1) if other_player == max_player else -1 * (len(state.available_moves()) + 1)}\n",
        "\n",
        "    elif not state.empty_squares():\n",
        "        return {'position': None, 'score': 0}\n",
        "\n",
        "    if player == max_player:\n",
        "        best = {'position': None, 'score': -math.inf}\n",
        "    else:\n",
        "        best = {'position': None, 'score': math.inf}\n",
        "\n",
        "    for possible_move in state.available_moves():\n",
        "        state.make_move(possible_move, player)\n",
        "        sim_score = minimax(state, other_player)\n",
        "\n",
        "        state.board[possible_move] = ' '\n",
        "        sim_score['position'] = possible_move\n",
        "\n",
        "        if player == max_player:\n",
        "            if sim_score['score'] > best['score']:\n",
        "                best = sim_score\n",
        "        else:\n",
        "            if sim_score['score'] < best['score']:\n",
        "                best = sim_score\n",
        "\n",
        "    return best"
      ],
      "metadata": {
        "id": "csR0hM5rQoPI"
      },
      "execution_count": 54,
      "outputs": []
    },
    {
      "cell_type": "markdown",
      "source": [
        "## AI Playing with Alpha-Beta Pruning Algorithm"
      ],
      "metadata": {
        "id": "uzuamaPoQr4z"
      }
    },
    {
      "cell_type": "code",
      "source": [
        "def minimax_alpha_beta(state, player, alpha=-math.inf, beta=math.inf):\n",
        "    max_player = 'X'\n",
        "    other_player = 'O' if player == 'X' else 'X'\n",
        "\n",
        "    if check_winner(state, other_player):\n",
        "        return {'position': None, 'score': 1 * (len(state.available_moves()) + 1) if other_player == max_player else -1 * (len(state.available_moves()) + 1)}\n",
        "\n",
        "    elif not state.empty_squares():\n",
        "        return {'position': None, 'score': 0}\n",
        "\n",
        "    if player == max_player:\n",
        "        best = {'position': None, 'score': -math.inf}\n",
        "    else:\n",
        "        best = {'position': None, 'score': math.inf}\n",
        "\n",
        "    for possible_move in state.available_moves():\n",
        "        state.make_move(possible_move, player)\n",
        "        sim_score = minimax_alpha_beta(state, other_player, alpha, beta)\n",
        "\n",
        "        state.board[possible_move] = ' '\n",
        "        sim_score['position'] = possible_move\n",
        "\n",
        "        if player == max_player:\n",
        "            if sim_score['score'] > best['score']:\n",
        "                best = sim_score\n",
        "            alpha = max(alpha, sim_score['score'])\n",
        "        else:\n",
        "            if sim_score['score'] < best['score']:\n",
        "                best = sim_score\n",
        "            beta = min(beta, sim_score['score'])\n",
        "\n",
        "        if beta <= alpha:\n",
        "            break\n",
        "\n",
        "    return best"
      ],
      "metadata": {
        "id": "RNmCnhljQ1wU"
      },
      "execution_count": 55,
      "outputs": []
    },
    {
      "cell_type": "markdown",
      "source": [
        "## Game Play"
      ],
      "metadata": {
        "id": "WUfrOclmQ37X"
      }
    },
    {
      "cell_type": "code",
      "source": [
        "def check_winner(game, player):\n",
        "    for move in range(9):\n",
        "        if game.board[move] == player and game.winner(move, player):\n",
        "            return True\n",
        "    return False\n",
        "\n",
        "\n",
        "def play_game(use_alpha_beta=False):\n",
        "    game = TicTacToe()\n",
        "    player_letter = random.choice(['O','X'])\n",
        "    ai_letter = 'X' if player_letter == 'O' else 'O'\n",
        "\n",
        "    current_letter = random.choice(['O', 'X'])\n",
        "    print(f\"\\nYour Symbol: {player_letter}\")\n",
        "    print(f\"AI Symbol: {ai_letter}\")\n",
        "    if current_letter == player_letter:\n",
        "        print(f\"\\nYou go first!\")\n",
        "    else:\n",
        "        print(f\"\\nAI goes first!\")\n",
        "    while game.empty_squares():\n",
        "        if current_letter == ai_letter:\n",
        "            print(\"\\nAI's Turn:\")\n",
        "            start_time = time.time()\n",
        "            if use_alpha_beta:\n",
        "                move = minimax_alpha_beta(game, ai_letter)['position']\n",
        "            else:\n",
        "                move = minimax(game, ai_letter)['position']\n",
        "            move_time = time.time() - start_time\n",
        "            print(f\"AI took {move_time:.6f} seconds to move.\")\n",
        "        else:\n",
        "            print(\"\\nYour Turn:\")\n",
        "            game.print_board()\n",
        "            valid_move = False\n",
        "            while not valid_move:\n",
        "                try:\n",
        "                    move = int(input('Choose your move (0-8): '))\n",
        "                    if move not in game.available_moves():\n",
        "                        raise ValueError\n",
        "                    valid_move = True\n",
        "                except ValueError:\n",
        "                    print('Invalid move. Try again.')\n",
        "\n",
        "        game.make_move(move, current_letter)\n",
        "        game.print_board()\n",
        "\n",
        "        if game.winner(move, current_letter):\n",
        "            if current_letter == ai_letter:\n",
        "                print(\"AI wins! 😈\")\n",
        "            else:\n",
        "                print(\"You win! 🎉\")\n",
        "            return\n",
        "\n",
        "        current_letter = 'O' if current_letter == 'X' else 'X'\n",
        "\n",
        "    print(\"It's a tie! 🤝\")"
      ],
      "metadata": {
        "collapsed": true,
        "id": "H7nXlGQGgiqE"
      },
      "execution_count": 56,
      "outputs": []
    },
    {
      "cell_type": "markdown",
      "source": [
        "## Compare Performance of Both Algorithm"
      ],
      "metadata": {
        "id": "OEcZl8t-RIjd"
      }
    },
    {
      "cell_type": "code",
      "source": [
        "def compare_performance():\n",
        "    game1 = TicTacToe()\n",
        "    game2 = TicTacToe()\n",
        "\n",
        "    print(\"\\nComparing performance...\")\n",
        "\n",
        "    start_time = time.time()\n",
        "    minimax(game1, 'X')\n",
        "    minimax_time = time.time() - start_time\n",
        "\n",
        "    start_time = time.time()\n",
        "    minimax_alpha_beta(game2, 'X')\n",
        "    alphabeta_time = time.time() - start_time\n",
        "\n",
        "    print(f\"\\nMinimax took: {minimax_time:.6f} seconds\")\n",
        "    print(f\"Alpha-Beta Pruning took: {alphabeta_time:.6f} seconds\")\n",
        "    if alphabeta_time < minimax_time:\n",
        "        print(\"\\n✅ Alpha-Beta Pruning is faster!\")\n",
        "    else:\n",
        "        print(\"\\n❌ Minimax was faster (weird!)\")"
      ],
      "metadata": {
        "id": "dC1RXdVjRI9D"
      },
      "execution_count": 57,
      "outputs": []
    },
    {
      "cell_type": "markdown",
      "source": [
        "## Menu to choose Desire Option"
      ],
      "metadata": {
        "id": "RcOgRjBORIcp"
      }
    },
    {
      "cell_type": "code",
      "source": [
        "def menu():\n",
        "    print(\"\\nWelcome to Tic-Tac-Toe with AI!\")\n",
        "    while True:\n",
        "        print(\"\\n1. Play against AI (Minimax)\")\n",
        "        print(\"2. Play against AI (Alpha-Beta Pruning)\")\n",
        "        print(\"3. Compare performance\")\n",
        "        print(\"4. Exit\")\n",
        "\n",
        "        choice = input(\"Choose an option (1-4): \")\n",
        "\n",
        "        if choice == '1':\n",
        "            play_game(use_alpha_beta=False)\n",
        "        elif choice == '2':\n",
        "            play_game(use_alpha_beta=True)\n",
        "        elif choice == '3':\n",
        "            compare_performance()\n",
        "        elif choice == '4':\n",
        "            print(\"Bye! 👋\")\n",
        "            break\n",
        "        else:\n",
        "            print(\"Invalid choice, try again.\")"
      ],
      "metadata": {
        "id": "Bu8Sq1BdhNef"
      },
      "execution_count": 58,
      "outputs": []
    },
    {
      "cell_type": "markdown",
      "source": [
        "## Run Below Function to Start Game"
      ],
      "metadata": {
        "id": "1tRVIX5kQp-6"
      }
    },
    {
      "cell_type": "code",
      "source": [
        "menu()"
      ],
      "metadata": {
        "colab": {
          "base_uri": "https://localhost:8080/"
        },
        "id": "sNh5fWqLRg43",
        "outputId": "9eeae269-0e6b-43f2-cffe-e00ee181164e"
      },
      "execution_count": 59,
      "outputs": [
        {
          "output_type": "stream",
          "name": "stdout",
          "text": [
            "\n",
            "Welcome to Tic-Tac-Toe with AI!\n",
            "\n",
            "1. Play against AI (Minimax)\n",
            "2. Play against AI (Alpha-Beta Pruning)\n",
            "3. Compare performance\n",
            "4. Exit\n",
            "Choose an option (1-4): 1\n",
            "\n",
            "Your Symbol: X\n",
            "AI Symbol: O\n",
            "\n",
            "AI goes first!\n",
            "\n",
            "AI's Turn:\n",
            "AI took 4.955215 seconds to move.\n",
            "| O |   |   |\n",
            "|   |   |   |\n",
            "|   |   |   |\n",
            "\n",
            "Your Turn:\n",
            "| O |   |   |\n",
            "|   |   |   |\n",
            "|   |   |   |\n",
            "Choose your move (0-8): 4\n",
            "| O |   |   |\n",
            "|   | X |   |\n",
            "|   |   |   |\n",
            "\n",
            "AI's Turn:\n",
            "AI took 0.065647 seconds to move.\n",
            "| O | O |   |\n",
            "|   | X |   |\n",
            "|   |   |   |\n",
            "\n",
            "Your Turn:\n",
            "| O | O |   |\n",
            "|   | X |   |\n",
            "|   |   |   |\n",
            "Choose your move (0-8): 2\n",
            "| O | O | X |\n",
            "|   | X |   |\n",
            "|   |   |   |\n",
            "\n",
            "AI's Turn:\n",
            "AI took 0.001951 seconds to move.\n",
            "| O | O | X |\n",
            "|   | X |   |\n",
            "| O |   |   |\n",
            "\n",
            "Your Turn:\n",
            "| O | O | X |\n",
            "|   | X |   |\n",
            "| O |   |   |\n",
            "Choose your move (0-8): 3\n",
            "| O | O | X |\n",
            "| X | X |   |\n",
            "| O |   |   |\n",
            "\n",
            "AI's Turn:\n",
            "AI took 0.000312 seconds to move.\n",
            "| O | O | X |\n",
            "| X | X | O |\n",
            "| O |   |   |\n",
            "\n",
            "Your Turn:\n",
            "| O | O | X |\n",
            "| X | X | O |\n",
            "| O |   |   |\n",
            "Choose your move (0-8): 8\n",
            "| O | O | X |\n",
            "| X | X | O |\n",
            "| O |   | X |\n",
            "\n",
            "AI's Turn:\n",
            "AI took 0.000048 seconds to move.\n",
            "| O | O | X |\n",
            "| X | X | O |\n",
            "| O | O | X |\n",
            "It's a tie! 🤝\n",
            "\n",
            "1. Play against AI (Minimax)\n",
            "2. Play against AI (Alpha-Beta Pruning)\n",
            "3. Compare performance\n",
            "4. Exit\n",
            "Choose an option (1-4): 2\n",
            "\n",
            "Your Symbol: X\n",
            "AI Symbol: O\n",
            "\n",
            "AI goes first!\n",
            "\n",
            "AI's Turn:\n",
            "AI took 0.195572 seconds to move.\n",
            "| O |   |   |\n",
            "|   |   |   |\n",
            "|   |   |   |\n",
            "\n",
            "Your Turn:\n",
            "| O |   |   |\n",
            "|   |   |   |\n",
            "|   |   |   |\n",
            "Choose your move (0-8): 4\n",
            "| O |   |   |\n",
            "|   | X |   |\n",
            "|   |   |   |\n",
            "\n",
            "AI's Turn:\n",
            "AI took 0.008838 seconds to move.\n",
            "| O | O |   |\n",
            "|   | X |   |\n",
            "|   |   |   |\n",
            "\n",
            "Your Turn:\n",
            "| O | O |   |\n",
            "|   | X |   |\n",
            "|   |   |   |\n",
            "Choose your move (0-8): 2\n",
            "| O | O | X |\n",
            "|   | X |   |\n",
            "|   |   |   |\n",
            "\n",
            "AI's Turn:\n",
            "AI took 0.000662 seconds to move.\n",
            "| O | O | X |\n",
            "|   | X |   |\n",
            "| O |   |   |\n",
            "\n",
            "Your Turn:\n",
            "| O | O | X |\n",
            "|   | X |   |\n",
            "| O |   |   |\n",
            "Choose your move (0-8): 3\n",
            "| O | O | X |\n",
            "| X | X |   |\n",
            "| O |   |   |\n",
            "\n",
            "AI's Turn:\n",
            "AI took 0.000186 seconds to move.\n",
            "| O | O | X |\n",
            "| X | X | O |\n",
            "| O |   |   |\n",
            "\n",
            "Your Turn:\n",
            "| O | O | X |\n",
            "| X | X | O |\n",
            "| O |   |   |\n",
            "Choose your move (0-8): 7\n",
            "| O | O | X |\n",
            "| X | X | O |\n",
            "| O | X |   |\n",
            "\n",
            "AI's Turn:\n",
            "AI took 0.000043 seconds to move.\n",
            "| O | O | X |\n",
            "| X | X | O |\n",
            "| O | X | O |\n",
            "It's a tie! 🤝\n",
            "\n",
            "1. Play against AI (Minimax)\n",
            "2. Play against AI (Alpha-Beta Pruning)\n",
            "3. Compare performance\n",
            "4. Exit\n",
            "Choose an option (1-4): 3\n",
            "\n",
            "Comparing performance...\n",
            "\n",
            "Minimax took: 5.763060 seconds\n",
            "Alpha-Beta Pruning took: 0.195558 seconds\n",
            "\n",
            "✅ Alpha-Beta Pruning is faster!\n",
            "\n",
            "1. Play against AI (Minimax)\n",
            "2. Play against AI (Alpha-Beta Pruning)\n",
            "3. Compare performance\n",
            "4. Exit\n",
            "Choose an option (1-4): 4\n",
            "Bye! 👋\n"
          ]
        }
      ]
    },
    {
      "cell_type": "code",
      "source": [],
      "metadata": {
        "id": "4B6cmk_Tjok-"
      },
      "execution_count": 59,
      "outputs": []
    }
  ]
}